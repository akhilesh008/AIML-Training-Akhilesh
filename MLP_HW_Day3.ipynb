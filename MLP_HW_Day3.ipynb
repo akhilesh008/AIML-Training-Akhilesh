{
  "nbformat": 4,
  "nbformat_minor": 0,
  "metadata": {
    "colab": {
      "provenance": [],
      "authorship_tag": "ABX9TyMnhVy3C4o8wAsU5xdQRIzk",
      "include_colab_link": true
    },
    "kernelspec": {
      "name": "python3",
      "display_name": "Python 3"
    },
    "language_info": {
      "name": "python"
    }
  },
  "cells": [
    {
      "cell_type": "markdown",
      "metadata": {
        "id": "view-in-github",
        "colab_type": "text"
      },
      "source": [
        "<a href=\"https://colab.research.google.com/github/akhilesh008/AIML-Training-Akhilesh/blob/main/MLP_HW_Day3.ipynb\" target=\"_parent\"><img src=\"https://colab.research.google.com/assets/colab-badge.svg\" alt=\"Open In Colab\"/></a>"
      ]
    },
    {
      "cell_type": "markdown",
      "metadata": {
        "id": "XvEdxjtx-2kk"
      },
      "source": [
        "# Exercises\n",
        "\n",
        "1.  Try using the MLP classifier for different logic gates other than XOR like AND, OR, NOR etc.\n",
        "2.  Try to change 0/1 logic to -1/+1 logic. What happens with an SLP in this case? What about an MLP?\n",
        "3. Try removing the activation function from the MLP and rerun the code. What happens in this case?\n",
        "  - Can you tell why particular activation function can be used in the model architecture?\n",
        "\n"
      ]
    },
    {
      "cell_type": "code",
      "metadata": {
        "id": "TvrQ_KcIrF3j"
      },
      "source": [
        "import numpy as np\n",
        "import torch\n",
        "import torch.nn as nn\n",
        "import torch.optim as optim\n",
        "\n",
        "from matplotlib.colors import ListedColormap\n",
        "import matplotlib.pyplot as plt\n",
        "\n",
        "%matplotlib inline\n",
        "\n",
        "# # The following code is used for hiding the warnings and make this notebook clearer.\n",
        "from matplotlib.axes._axes import _log as matplotlib_axes_logger\n",
        "matplotlib_axes_logger.setLevel('ERROR')"
      ],
      "execution_count": 1,
      "outputs": []
    },
    {
      "cell_type": "code",
      "metadata": {
        "id": "Stt32Yr48_qr"
      },
      "source": [
        "## Code to plot decision boundary ##\n",
        "\n",
        "def plot_decision_regions(X, y, classifier, method, test_idx=None, resolution=0.02):\n",
        "\n",
        "    # setup marker generator and color map\n",
        "    markers = ('s', 'x', 'o', '^', 'v')\n",
        "    colors = ('red', 'blue', 'lightgreen', 'gray', 'cyan')\n",
        "    cmap = ListedColormap(colors[:len(np.unique(y))])\n",
        "\n",
        "    # plot the decision surface\n",
        "    x1_min, x1_max = X[:, 0].min() - 1, X[:, 0].max() + 1\n",
        "    x2_min, x2_max = X[:, 1].min() - 1, X[:, 1].max() + 1\n",
        "    xx1, xx2 = np.meshgrid(np.arange(x1_min, x1_max, resolution),\n",
        "                           np.arange(x2_min, x2_max, resolution))\n",
        "    if method == 'numpy':\n",
        "        Z = classifier.predict(np.array([xx1.ravel(), xx2.ravel()]).T)\n",
        "    elif method == 'pytorch':\n",
        "        inp = torch.tensor([xx1.ravel(), xx2.ravel()], dtype=torch.float, requires_grad=False).T\n",
        "        Z = np.array([]).reshape(0,1)\n",
        "        for data in inp:\n",
        "            out = classifier(data)\n",
        "            Z = np.vstack((Z, out.data.numpy()))\n",
        "    else:\n",
        "        print('Not implemented')\n",
        "    Z = Z.reshape(xx1.shape)\n",
        "    plt.contourf(xx1, xx2, Z, alpha=0.4, cmap=cmap)\n",
        "    plt.xlim(xx1.min(), xx1.max())\n",
        "    plt.ylim(xx2.min(), xx2.max())\n",
        "\n",
        "    # plot class samples\n",
        "    for idx, cl in enumerate(np.unique(y)):\n",
        "        plt.scatter(x=X[y == cl, 0], y=X[y == cl, 1],\n",
        "                    alpha=0.8, c=cmap(idx),\n",
        "                    marker=markers[idx], label=cl)\n",
        "\n",
        "    # highlight test samples\n",
        "    if test_idx:\n",
        "        # plot all samples\n",
        "        X_test, y_test = X[test_idx, :], y[test_idx]\n",
        "\n",
        "        plt.scatter(X_test[:, 0],\n",
        "                    X_test[:, 1],\n",
        "                    c='',\n",
        "                    alpha=1.0,\n",
        "                    linewidths=1,\n",
        "                    marker='o',\n",
        "                    s=55, label='test set')"
      ],
      "execution_count": 2,
      "outputs": []
    },
    {
      "cell_type": "markdown",
      "metadata": {
        "id": "oPRAUbSppt3g"
      },
      "source": [
        "# Define the input data\n",
        "### Taking AND data"
      ]
    },
    {
      "cell_type": "code",
      "metadata": {
        "id": "B4-HE3rWpxtI"
      },
      "source": [
        "torch.manual_seed(0)\n",
        "\n",
        "X = torch.tensor([[0,0],[0,1], [1,0], [1,1]], dtype=torch.float, requires_grad=False)\n",
        "Y = torch.tensor([0,0,0,1], dtype=torch.float, requires_grad=False)"
      ],
      "execution_count": 3,
      "outputs": []
    },
    {
      "cell_type": "code",
      "metadata": {
        "id": "amMwBA5amadq"
      },
      "source": [
        "class Net(nn.Module):\n",
        "    def __init__(self):\n",
        "        super(Net, self).__init__()\n",
        "        # Initialize all the layers with learnable parameters\n",
        "        self.fc1 = nn.Linear(2, 2, bias=True)\n",
        "        self.fc2 = nn.Linear(2, 1, bias=True)\n",
        "\n",
        "    def forward(self, x):\n",
        "        # Write the forward pass\n",
        "        # Note that we use a sigmoid activation function here\n",
        "        x = self.fc1(x)\n",
        "        x = torch.sigmoid(x)\n",
        "        x = self.fc2(x)\n",
        "        x = torch.sigmoid(x)\n",
        "        return x\n",
        "\n",
        "model = Net()"
      ],
      "execution_count": 4,
      "outputs": []
    },
    {
      "cell_type": "code",
      "metadata": {
        "id": "quKUVIkmnLck"
      },
      "source": [
        "def weights_init(model):\n",
        "    for m in model.modules():\n",
        "        if isinstance(m, nn.Linear):\n",
        "            # initialize the weight tensor, here we use a normal distribution\n",
        "            m.weight.data.normal_(0, 1)\n",
        "\n",
        "weights_init(model)\n"
      ],
      "execution_count": 5,
      "outputs": []
    },
    {
      "cell_type": "code",
      "metadata": {
        "id": "gWiUFf8to028"
      },
      "source": [
        "# Use a mean square error loss\n",
        "loss_func = nn.MSELoss()\n",
        "\n",
        "optimizer = optim.SGD(model.parameters(), lr=0.1)"
      ],
      "execution_count": 6,
      "outputs": []
    },
    {
      "cell_type": "code",
      "metadata": {
        "id": "XdoIOwHjpDUC",
        "colab": {
          "base_uri": "https://localhost:8080/"
        },
        "outputId": "56427531-e5ed-4a27-ea5a-1e64b1f62da1"
      },
      "source": [
        "epochs = 5000\n",
        "steps = X.size(0)\n",
        "for i in range(epochs): # iterate over epoch\n",
        "    for j in range(steps): # iterate over sample\n",
        "        # randomly sample the inputs\n",
        "        sample = np.random.randint(X.size(0))\n",
        "        x_var = X[sample]\n",
        "        y_var = Y[sample]\n",
        "\n",
        "        optimizer.zero_grad()\n",
        "\n",
        "        y_hat = model(x_var)\n",
        "\n",
        "        loss = loss_func.forward(y_hat[0], y_var)\n",
        "\n",
        "        loss.backward()\n",
        "\n",
        "        optimizer.step()\n",
        "\n",
        "    if i % 500 == 0:\n",
        "        print(\"Epoch: {0}, Loss: {1}, \".format(i, loss.data.numpy()))"
      ],
      "execution_count": 7,
      "outputs": [
        {
          "output_type": "stream",
          "name": "stdout",
          "text": [
            "Epoch: 0, Loss: 0.20678745210170746, \n",
            "Epoch: 500, Loss: 0.11570999026298523, \n",
            "Epoch: 1000, Loss: 0.01260059978812933, \n",
            "Epoch: 1500, Loss: 0.005682789720594883, \n",
            "Epoch: 2000, Loss: 0.002915126271545887, \n",
            "Epoch: 2500, Loss: 5.710735877073603e-06, \n",
            "Epoch: 3000, Loss: 0.003343058517202735, \n",
            "Epoch: 3500, Loss: 0.0010443442733958364, \n",
            "Epoch: 4000, Loss: 0.001993054524064064, \n",
            "Epoch: 4500, Loss: 0.00081054208567366, \n"
          ]
        }
      ]
    },
    {
      "cell_type": "code",
      "metadata": {
        "id": "-iuVBZAhqmyc",
        "colab": {
          "base_uri": "https://localhost:8080/"
        },
        "outputId": "a8ab8f08-c83b-4668-f9b4-15278b09eea2"
      },
      "source": [
        "for data in X:\n",
        "    output = model(data)\n",
        "    print(data, np.round(output.data.numpy()))"
      ],
      "execution_count": 8,
      "outputs": [
        {
          "output_type": "stream",
          "name": "stdout",
          "text": [
            "tensor([0., 0.]) [0.]\n",
            "tensor([0., 1.]) [0.]\n",
            "tensor([1., 0.]) [0.]\n",
            "tensor([1., 1.]) [1.]\n"
          ]
        }
      ]
    },
    {
      "cell_type": "markdown",
      "metadata": {
        "id": "rivkpNxI14nM"
      },
      "source": [
        "# Visualize the decision boundary"
      ]
    },
    {
      "cell_type": "code",
      "metadata": {
        "id": "x0NwT57etnik",
        "colab": {
          "base_uri": "https://localhost:8080/",
          "height": 578
        },
        "outputId": "3bcd5d3b-019d-42bc-f63d-d03411d0b9a3"
      },
      "source": [
        "np.random.seed(0)\n",
        "plot_decision_regions(X.detach().numpy(), Y.detach().numpy(), model, 'pytorch')\n",
        "plt.xlabel('x-axis')\n",
        "plt.ylabel('y-axis')\n",
        "plt.legend(loc='upper left')\n",
        "plt.tight_layout()\n",
        "plt.show()"
      ],
      "execution_count": 9,
      "outputs": [
        {
          "output_type": "stream",
          "name": "stderr",
          "text": [
            "<ipython-input-2-d74ee9bebb86>:18: UserWarning: Creating a tensor from a list of numpy.ndarrays is extremely slow. Please consider converting the list to a single numpy.ndarray with numpy.array() before converting to a tensor. (Triggered internally at ../torch/csrc/utils/tensor_new.cpp:245.)\n",
            "  inp = torch.tensor([xx1.ravel(), xx2.ravel()], dtype=torch.float, requires_grad=False).T\n",
            "<ipython-input-2-d74ee9bebb86>:32: UserWarning: *c* argument looks like a single numeric RGB or RGBA sequence, which should be avoided as value-mapping will have precedence in case its length matches with *x* & *y*.  Please use the *color* keyword-argument or provide a 2D array with a single row if you intend to specify the same RGB or RGBA value for all points.\n",
            "  plt.scatter(x=X[y == cl, 0], y=X[y == cl, 1],\n"
          ]
        },
        {
          "output_type": "display_data",
          "data": {
            "text/plain": [
              "<Figure size 640x480 with 1 Axes>"
            ],
            "image/png": "[encoded data removed]"
          },
          "metadata": {}
        }
      ]
    },
    {
      "cell_type": "code",
      "metadata": {
        "id": "dXPyzBtKOuB5"
      },
      "source": [
        "torch.manual_seed(0)\n",
        "\n",
        "X1 = torch.tensor([[-1,-1],[-1,1], [1,-1], [1,1]], dtype=torch.float, requires_grad=False)\n",
        "Y1 = torch.tensor([-1,1,1,1], dtype=torch.float, requires_grad=False)"
      ],
      "execution_count": 11,
      "outputs": []
    },
    {
      "cell_type": "code",
      "metadata": {
        "colab": {
          "base_uri": "https://localhost:8080/"
        },
        "outputId": "a6303c53-6a39-4855-e5d1-3d978e7f386d",
        "id": "LaGoPQ6LPI7H"
      },
      "source": [
        "epochs = 5000\n",
        "steps = X1.size(0)\n",
        "for i in range(epochs): # iterate over epoch\n",
        "    for j in range(steps): # iterate over sample\n",
        "        # randomly sample the inputs\n",
        "        sample = np.random.randint(X1.size(0))\n",
        "        x_var = X1[sample]\n",
        "        y_var = Y1[sample]\n",
        "\n",
        "        optimizer.zero_grad()\n",
        "\n",
        "        y_hat = model(x_var)\n",
        "\n",
        "        loss = loss_func.forward(y_hat[0], y_var)\n",
        "\n",
        "        loss.backward()\n",
        "\n",
        "        optimizer.step()\n",
        "\n",
        "    if i % 500 == 0:\n",
        "        print(\"Epoch: {0}, Loss: {1}, \".format(i, loss.data.numpy()))"
      ],
      "execution_count": 12,
      "outputs": [
        {
          "output_type": "stream",
          "name": "stdout",
          "text": [
            "Epoch: 0, Loss: 1.0016252994537354, \n",
            "Epoch: 500, Loss: 1.002817988395691, \n",
            "Epoch: 1000, Loss: 8.100542459033022e-07, \n",
            "Epoch: 1500, Loss: 0.012593058869242668, \n",
            "Epoch: 2000, Loss: 0.006178389303386211, \n",
            "Epoch: 2500, Loss: 0.000515236402861774, \n",
            "Epoch: 3000, Loss: 0.0036062186118215322, \n",
            "Epoch: 3500, Loss: 1.0075173377990723, \n",
            "Epoch: 4000, Loss: 0.0001826003281166777, \n",
            "Epoch: 4500, Loss: 1.0055865049362183, \n"
          ]
        }
      ]
    },
    {
      "cell_type": "code",
      "metadata": {
        "colab": {
          "base_uri": "https://localhost:8080/"
        },
        "outputId": "c3120c44-633b-43fa-8631-ad4b6dfd8b7b",
        "id": "b1J_BALePsbl"
      },
      "source": [
        "for data in X1:\n",
        "    output = model(data)\n",
        "    print(data, np.round(output.data.numpy()))"
      ],
      "execution_count": 13,
      "outputs": [
        {
          "output_type": "stream",
          "name": "stdout",
          "text": [
            "tensor([-1., -1.]) [0.]\n",
            "tensor([-1.,  1.]) [1.]\n",
            "tensor([ 1., -1.]) [1.]\n",
            "tensor([1., 1.]) [1.]\n"
          ]
        }
      ]
    },
    {
      "cell_type": "code",
      "metadata": {
        "colab": {
          "base_uri": "https://localhost:8080/",
          "height": 543
        },
        "outputId": "a7d1150c-41a0-4b1f-9347-3db562b84764",
        "id": "8WMsBBPhP0TK"
      },
      "source": [
        "np.random.seed(0)\n",
        "plot_decision_regions(X1.detach().numpy(), Y1.detach().numpy(), model, 'pytorch')\n",
        "plt.xlabel('x-axis')\n",
        "plt.ylabel('y-axis')\n",
        "plt.legend(loc='upper left')\n",
        "plt.tight_layout()\n",
        "plt.show()"
      ],
      "execution_count": 14,
      "outputs": [
        {
          "output_type": "stream",
          "name": "stderr",
          "text": [
            "<ipython-input-2-d74ee9bebb86>:32: UserWarning: *c* argument looks like a single numeric RGB or RGBA sequence, which should be avoided as value-mapping will have precedence in case its length matches with *x* & *y*.  Please use the *color* keyword-argument or provide a 2D array with a single row if you intend to specify the same RGB or RGBA value for all points.\n",
            "  plt.scatter(x=X[y == cl, 0], y=X[y == cl, 1],\n"
          ]
        },
        {
          "output_type": "display_data",
          "data": {
            "text/plain": [
              "<Figure size 640x480 with 1 Axes>"
            ],
            "image/png": "[encoded data removed]"
          },
          "metadata": {}
        }
      ]
    },
    {
      "cell_type": "markdown",
      "source": [
        "## Create a SLP and train on data"
      ],
      "metadata": {
        "id": "xMI2wTTXQy6c"
      }
    },
    {
      "cell_type": "code",
      "metadata": {
        "id": "4Po-El-fRAG_"
      },
      "source": [
        "class Net(nn.Module):\n",
        "    def __init__(self):\n",
        "        super(Net, self).__init__()\n",
        "        # Initialize all the layers with learnable parameters\n",
        "        self.fc1 = nn.Linear(2, 1, bias=True)\n",
        "\n",
        "    def forward(self, x):\n",
        "        # Write the forward pass\n",
        "        # Note that we use a sigmoid activation function here\n",
        "        x = self.fc1(x)\n",
        "        x = torch.sigmoid(x)\n",
        "        return x\n",
        "\n",
        "model = Net()"
      ],
      "execution_count": 20,
      "outputs": []
    },
    {
      "cell_type": "code",
      "metadata": {
        "id": "FvRzZO22RJi3"
      },
      "source": [
        "def weights_init(model):\n",
        "    for m in model.modules():\n",
        "        if isinstance(m, nn.Linear):\n",
        "            # initialize the weight tensor, here we use a normal distribution\n",
        "            m.weight.data.normal_(0, 1)\n",
        "\n",
        "weights_init(model)"
      ],
      "execution_count": 16,
      "outputs": []
    },
    {
      "cell_type": "code",
      "metadata": {
        "id": "fXZjQsF4RdBD"
      },
      "source": [
        "torch.manual_seed(0)\n",
        "\n",
        "X = torch.tensor([[0,0],[0,1], [1,0], [1,1]], dtype=torch.float, requires_grad=False)\n",
        "Y = torch.tensor([0,1,1,1], dtype=torch.float, requires_grad=False)\n"
      ],
      "execution_count": 17,
      "outputs": []
    },
    {
      "cell_type": "code",
      "metadata": {
        "colab": {
          "base_uri": "https://localhost:8080/"
        },
        "outputId": "a5bcd7ae-e357-4a8d-cafe-4a4d69a47996",
        "id": "TIsJNhnRRWjh"
      },
      "source": [
        "epochs = 50000\n",
        "steps = X.size(0)\n",
        "for i in range(epochs): # iterate over epoch\n",
        "    for j in range(steps): # iterate over sample\n",
        "        # randomly sample the inputs\n",
        "        sample = np.random.randint(X.size(0))\n",
        "        x_var = X[sample]\n",
        "        y_var = Y[sample]\n",
        "\n",
        "        optimizer.zero_grad()\n",
        "\n",
        "        y_hat = model(x_var)\n",
        "\n",
        "        loss = loss_func.forward(y_hat[0], y_var)\n",
        "\n",
        "        loss.backward()\n",
        "\n",
        "        optimizer.step()\n",
        "\n",
        "    if i % 500 == 0:\n",
        "        print(\"Epoch: {0}, Loss: {1}, \".format(i, loss.data.numpy()))"
      ],
      "execution_count": 23,
      "outputs": [
        {
          "output_type": "stream",
          "name": "stdout",
          "text": [
            "Epoch: 0, Loss: 0.12850570678710938, \n",
            "Epoch: 500, Loss: 0.30304116010665894, \n",
            "Epoch: 1000, Loss: 0.30448484420776367, \n",
            "Epoch: 1500, Loss: 0.12850570678710938, \n",
            "Epoch: 2000, Loss: 0.30448484420776367, \n",
            "Epoch: 2500, Loss: 0.30304116010665894, \n",
            "Epoch: 3000, Loss: 0.12850570678710938, \n",
            "Epoch: 3500, Loss: 0.30304116010665894, \n",
            "Epoch: 4000, Loss: 0.30448484420776367, \n",
            "Epoch: 4500, Loss: 0.30448484420776367, \n",
            "Epoch: 5000, Loss: 0.30304116010665894, \n",
            "Epoch: 5500, Loss: 0.12850570678710938, \n",
            "Epoch: 6000, Loss: 0.41311419010162354, \n",
            "Epoch: 6500, Loss: 0.12850570678710938, \n",
            "Epoch: 7000, Loss: 0.12850570678710938, \n",
            "Epoch: 7500, Loss: 0.30448484420776367, \n",
            "Epoch: 8000, Loss: 0.30304116010665894, \n",
            "Epoch: 8500, Loss: 0.12850570678710938, \n",
            "Epoch: 9000, Loss: 0.41311419010162354, \n",
            "Epoch: 9500, Loss: 0.12850570678710938, \n",
            "Epoch: 10000, Loss: 0.12850570678710938, \n",
            "Epoch: 10500, Loss: 0.30448484420776367, \n",
            "Epoch: 11000, Loss: 0.30448484420776367, \n",
            "Epoch: 11500, Loss: 0.30448484420776367, \n",
            "Epoch: 12000, Loss: 0.30304116010665894, \n",
            "Epoch: 12500, Loss: 0.30448484420776367, \n",
            "Epoch: 13000, Loss: 0.12850570678710938, \n",
            "Epoch: 13500, Loss: 0.30448484420776367, \n",
            "Epoch: 14000, Loss: 0.12850570678710938, \n",
            "Epoch: 14500, Loss: 0.30448484420776367, \n",
            "Epoch: 15000, Loss: 0.30304116010665894, \n",
            "Epoch: 15500, Loss: 0.30448484420776367, \n",
            "Epoch: 16000, Loss: 0.12850570678710938, \n",
            "Epoch: 16500, Loss: 0.30304116010665894, \n",
            "Epoch: 17000, Loss: 0.12850570678710938, \n",
            "Epoch: 17500, Loss: 0.30448484420776367, \n",
            "Epoch: 18000, Loss: 0.30448484420776367, \n",
            "Epoch: 18500, Loss: 0.41311419010162354, \n",
            "Epoch: 19000, Loss: 0.41311419010162354, \n",
            "Epoch: 19500, Loss: 0.12850570678710938, \n",
            "Epoch: 20000, Loss: 0.12850570678710938, \n",
            "Epoch: 20500, Loss: 0.41311419010162354, \n",
            "Epoch: 21000, Loss: 0.30304116010665894, \n",
            "Epoch: 21500, Loss: 0.30448484420776367, \n",
            "Epoch: 22000, Loss: 0.41311419010162354, \n",
            "Epoch: 22500, Loss: 0.41311419010162354, \n",
            "Epoch: 23000, Loss: 0.12850570678710938, \n",
            "Epoch: 23500, Loss: 0.30304116010665894, \n",
            "Epoch: 24000, Loss: 0.30448484420776367, \n",
            "Epoch: 24500, Loss: 0.12850570678710938, \n",
            "Epoch: 25000, Loss: 0.30448484420776367, \n",
            "Epoch: 25500, Loss: 0.41311419010162354, \n",
            "Epoch: 26000, Loss: 0.30304116010665894, \n",
            "Epoch: 26500, Loss: 0.30304116010665894, \n",
            "Epoch: 27000, Loss: 0.12850570678710938, \n",
            "Epoch: 27500, Loss: 0.30304116010665894, \n",
            "Epoch: 28000, Loss: 0.30448484420776367, \n",
            "Epoch: 28500, Loss: 0.41311419010162354, \n",
            "Epoch: 29000, Loss: 0.41311419010162354, \n",
            "Epoch: 29500, Loss: 0.41311419010162354, \n",
            "Epoch: 30000, Loss: 0.30304116010665894, \n",
            "Epoch: 30500, Loss: 0.30448484420776367, \n",
            "Epoch: 31000, Loss: 0.41311419010162354, \n",
            "Epoch: 31500, Loss: 0.30304116010665894, \n",
            "Epoch: 32000, Loss: 0.12850570678710938, \n",
            "Epoch: 32500, Loss: 0.30448484420776367, \n",
            "Epoch: 33000, Loss: 0.12850570678710938, \n",
            "Epoch: 33500, Loss: 0.30304116010665894, \n",
            "Epoch: 34000, Loss: 0.12850570678710938, \n",
            "Epoch: 34500, Loss: 0.12850570678710938, \n",
            "Epoch: 35000, Loss: 0.30304116010665894, \n",
            "Epoch: 35500, Loss: 0.30448484420776367, \n",
            "Epoch: 36000, Loss: 0.30304116010665894, \n",
            "Epoch: 36500, Loss: 0.30448484420776367, \n",
            "Epoch: 37000, Loss: 0.30304116010665894, \n",
            "Epoch: 37500, Loss: 0.41311419010162354, \n",
            "Epoch: 38000, Loss: 0.30304116010665894, \n",
            "Epoch: 38500, Loss: 0.41311419010162354, \n",
            "Epoch: 39000, Loss: 0.12850570678710938, \n",
            "Epoch: 39500, Loss: 0.30448484420776367, \n",
            "Epoch: 40000, Loss: 0.30448484420776367, \n",
            "Epoch: 40500, Loss: 0.30304116010665894, \n",
            "Epoch: 41000, Loss: 0.30448484420776367, \n",
            "Epoch: 41500, Loss: 0.12850570678710938, \n",
            "Epoch: 42000, Loss: 0.12850570678710938, \n",
            "Epoch: 42500, Loss: 0.30304116010665894, \n",
            "Epoch: 43000, Loss: 0.41311419010162354, \n",
            "Epoch: 43500, Loss: 0.41311419010162354, \n",
            "Epoch: 44000, Loss: 0.12850570678710938, \n",
            "Epoch: 44500, Loss: 0.30304116010665894, \n",
            "Epoch: 45000, Loss: 0.12850570678710938, \n",
            "Epoch: 45500, Loss: 0.12850570678710938, \n",
            "Epoch: 46000, Loss: 0.30304116010665894, \n",
            "Epoch: 46500, Loss: 0.41311419010162354, \n",
            "Epoch: 47000, Loss: 0.30448484420776367, \n",
            "Epoch: 47500, Loss: 0.30448484420776367, \n",
            "Epoch: 48000, Loss: 0.30448484420776367, \n",
            "Epoch: 48500, Loss: 0.30304116010665894, \n",
            "Epoch: 49000, Loss: 0.41311419010162354, \n",
            "Epoch: 49500, Loss: 0.41311419010162354, \n"
          ]
        }
      ]
    },
    {
      "cell_type": "code",
      "metadata": {
        "colab": {
          "base_uri": "https://localhost:8080/"
        },
        "outputId": "13cc31e4-97c1-4e2e-ed35-0e84dc05224a",
        "id": "P-GVmeqhRuUP"
      },
      "source": [
        "for data in X:\n",
        "    output = model(data)\n",
        "    print(data, np.round(output.data.numpy()))"
      ],
      "execution_count": 24,
      "outputs": [
        {
          "output_type": "stream",
          "name": "stdout",
          "text": [
            "tensor([0., 0.]) [0.]\n",
            "tensor([0., 1.]) [0.]\n",
            "tensor([1., 0.]) [0.]\n",
            "tensor([1., 1.]) [0.]\n"
          ]
        }
      ]
    }
  ]
}